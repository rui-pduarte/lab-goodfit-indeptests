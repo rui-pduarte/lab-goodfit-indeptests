{
 "cells": [
  {
   "cell_type": "code",
   "execution_count": 101,
   "metadata": {},
   "outputs": [],
   "source": [
    "from scipy.stats import binom\n",
    "from scipy.stats import poisson\n",
    "from scipy.stats import chi, chi2\n",
    "\n",
    "import scipy.stats as st\n",
    "\n",
    "import matplotlib.pyplot as plt\n",
    "import pandas as pd\n",
    "import numpy as np\n",
    "import math"
   ]
  },
  {
   "cell_type": "markdown",
   "metadata": {},
   "source": [
    "## Question 1\n",
    "The following table indicates the number of 6-point scores in an American rugby match in the 1979 season.\n",
    "\n",
    "![](table1.png)\n",
    "\n",
    "Based on these results, we create a Poisson distribution with the sample mean parameter  = 2.435. Is there any reason to believe that at a .05 level the number of scores is a Poisson variable?"
   ]
  },
  {
   "cell_type": "code",
   "execution_count": 97,
   "metadata": {},
   "outputs": [
    {
     "name": "stdout",
     "output_type": "stream",
     "text": [
      "Quick Mean Check: 2.435267857142857\n",
      "\n",
      "Chi-squared Stat: 6.491310681109773\n",
      "Chi-squared Crit: 14.067140449340169\n",
      "\n",
      "We cannot reject the null. We cannot exclude the possibility of it following the tested distribution.\n"
     ]
    }
   ],
   "source": [
    "alpha = 0.05\n",
    "mean = 2.435\n",
    "scores = [0,1,2,3,4,5,6,7]\n",
    "freq_obs_scores = [35,99,104,110,62,25,10,3]\n",
    "print('Quick Mean Check: ' + str(sum(np.array(scores)*np.array(freq_obs_scores))/sum(freq_obs_scores)))\n",
    "print('')\n",
    "freq_expect_scores = [sum(freq_obs_scores) * (((mean**i) * math.exp(-1*mean))/math.factorial(i)) for i in scores] \n",
    "freq_expect_scores = freq_expect_scores[:-1] ### fixing the matter of the last category being \"or more\"\n",
    "freq_expect_scores.append(sum(freq_obs_scores) - sum(freq_expect_scores))\n",
    "\n",
    "chi_squared = np.sum(np.divide(np.square(np.subtract(freq_obs_scores, freq_expect_scores)),freq_expect_scores))\n",
    "print('Chi-squared Stat: ' + str(chi_squared))\n",
    "\n",
    "dist = chi2(len(freq_obs_scores)-1)\n",
    "criticalvalue = dist.ppf(1-alpha)\n",
    "\n",
    "print('Chi-squared Crit: ' + str(criticalvalue))\n",
    "print('')\n",
    "\n",
    "if chi_squared > criticalvalue:\n",
    "    print('We can reject the null. It does not follow the tested distribution.')\n",
    "else: \n",
    "    print(\"We cannot reject the null. We cannot exclude the possibility of it following the tested distribution.\")\n",
    "    \n",
    "### I do not understand how can a test like this reach the same conclusion as one in which I would use a full list of \n",
    "### scores instead of frequencies... say a list that would be obtained by:\n",
    "\n",
    "        # Observed_Scores_List = []\n",
    "        # for i in range(len(freq_scores)):\n",
    "        #     j = 1\n",
    "        #     while j <= freq_obs_scores[i]:\n",
    "        #         Observed_Scores_List.append(scores[i])\n",
    "        #         j += 1\n",
    "\n",
    "        # Expected_Scores_List = []\n",
    "        # for i in range(len(freq_expect_scores)):\n",
    "        #     j = 1\n",
    "        #     while j <= dist_0_7[i]:\n",
    "        #         Expected_Scores_List.append(scores[i])\n",
    "        #         j += 1\n",
    "        \n",
    "### We do use multiply by the total and we do use different dfs... but ..."
   ]
  },
  {
   "cell_type": "markdown",
   "metadata": {},
   "source": [
    "## BONUS/OPTIONAL - Question 2\n",
    "Let's analyze a discrete distribution. To analyze the number of defective items in a factory in the city of Medellín, we took a random sample of n = 60 articles and observed the number of defectives in the following table:\n",
    "\n",
    "![](table2.png)\n",
    "\n",
    "A poissón distribution was proposed since it is defined for x = 0,1,2,3, .... using the following model:\n",
    "\n",
    "![](image1.png)\n",
    "\n",
    "For some extra insights check the following link: https://online.stat.psu.edu/stat504/node/63/ \n",
    "\n",
    "Does the distribution of defective items follow this distribution?"
   ]
  },
  {
   "cell_type": "code",
   "execution_count": 98,
   "metadata": {},
   "outputs": [
    {
     "name": "stdout",
     "output_type": "stream",
     "text": [
      "Quick Mean Check: 0.9666666666666667\n",
      "\n",
      "Chi-squared Stat: 20.01608552988212\n",
      "Chi-squared Crit: 7.814727903251179\n",
      "\n",
      "We can reject the null. It does not follow the tested distribution.\n"
     ]
    }
   ],
   "source": [
    "### Exact same as above, but used the mean of the sample for generating the expected instead of a mean provided.\n",
    "\n",
    "# your code here\n",
    "alpha = 0.05\n",
    "scores = [0,1,3,4]\n",
    "freq_obs_scores = [32,15,9,4]\n",
    "\n",
    "mean = sum(np.array(scores)*np.array(freq_obs_scores))/sum(freq_obs_scores)\n",
    "print('Quick Mean Check: ' + str(mean))\n",
    "print('')\n",
    "freq_expect_scores = [sum(freq_obs_scores) * (((mean**i) * math.exp(-1*mean))/math.factorial(i)) for i in scores] \n",
    "freq_expect_scores = freq_expect_scores[:-1] ### fixing the matter of the last category being \"or more\"\n",
    "freq_expect_scores.append(sum(freq_obs_scores) - sum(freq_expect_scores))\n",
    "\n",
    "chi_squared = np.sum(np.divide(np.square(np.subtract(freq_obs_scores, freq_expect_scores)),freq_expect_scores))\n",
    "print('Chi-squared Stat: ' + str(chi_squared))\n",
    "\n",
    "dist = chi2(len(freq_obs_scores)-1)\n",
    "criticalvalue = dist.ppf(1-alpha)\n",
    "\n",
    "print('Chi-squared Crit: ' + str(criticalvalue))\n",
    "print('')\n",
    "\n",
    "if chi_squared > criticalvalue:\n",
    "    print('We can reject the null. It does not follow the tested distribution.')\n",
    "else: \n",
    "    print(\"We cannot reject the null. We cannot exclude the possibility of it following the tested distribution.\")"
   ]
  },
  {
   "cell_type": "markdown",
   "metadata": {},
   "source": [
    "## Question 3\n",
    "A quality control engineer takes a sample of 10 tires that come out of an assembly line, and would like to verify on the basis of the data that follows, if the number of tires with defects observed over 200 days, if it is true that 5% of all tires have defects (that is, if the sample comes from a binomial population with n = 10 and p = 0.05). \n",
    "\n",
    "![](table3.png)\n"
   ]
  },
  {
   "cell_type": "code",
   "execution_count": 99,
   "metadata": {},
   "outputs": [
    {
     "name": "stdout",
     "output_type": "stream",
     "text": [
      "Chi-squared Stat: 8.306179519542825\n",
      "Chi-squared Crit: 5.991464547107979\n",
      "\n",
      "We can reject the null. It does not follow the tested distribution.\n"
     ]
    }
   ],
   "source": [
    "# your answer here\n",
    "alpha = 0.05\n",
    "scores = [0,1,2]\n",
    "freq_obs_scores = [138,53,9]\n",
    "n = 10\n",
    "p = 0.05\n",
    "freq_expect_scores = []\n",
    "k = 0\n",
    "freq_expect_scores.append(200 * (math.factorial(n)/(math.factorial(k)*math.factorial(n-k)))*(p**k)*((1-p)**(n-k)))\n",
    "k = 1\n",
    "freq_expect_scores.append(200 * (math.factorial(n)/(math.factorial(k)*math.factorial(n-k)))*(p**k)*((1-p)**(n-k)))\n",
    "freq_expect_scores.append(sum(freq_obs_scores) - sum(freq_expect_scores))\n",
    "\n",
    "chi_squared = np.sum(np.divide(np.square(np.subtract(freq_obs_scores, freq_expect_scores)),freq_expect_scores))\n",
    "print('Chi-squared Stat: ' + str(chi_squared))\n",
    "\n",
    "dist = chi2(len(freq_obs_scores)-1)\n",
    "criticalvalue = dist.ppf(1-alpha)\n",
    "\n",
    "print('Chi-squared Crit: ' + str(criticalvalue))\n",
    "print('')\n",
    "\n",
    "if chi_squared > criticalvalue:\n",
    "    print('We can reject the null. It does not follow the tested distribution.')\n",
    "else: \n",
    "    print(\"We cannot reject the null. We cannot exclude the possibility of it following the tested distribution.\")"
   ]
  },
  {
   "cell_type": "markdown",
   "metadata": {},
   "source": [
    "## Question 4\n",
    "A researcher gathers information about the patterns of Physical Activity of children in the fifth grade of primary school of a public school. He defines three categories of physical activity (Low, Medium, High). He also inquires about the regular consumption of sugary drinks at school, and defines two categories (Yes = consumed, No = not consumed). We would like to evaluate if there is an association between patterns of physical activity and the consumption of sugary drinks for the children of this school, at a level of 5% significance. The results are in the following table: \n",
    "\n",
    "![](table4.png)"
   ]
  },
  {
   "cell_type": "code",
   "execution_count": 107,
   "metadata": {},
   "outputs": [
    {
     "name": "stdout",
     "output_type": "stream",
     "text": [
      "We can reject the null. There is an association between the two variables.\n"
     ]
    }
   ],
   "source": [
    "#your answer here\n",
    "chi2, p, dof, ex = st.chi2_contingency([[32,12],[14,22],[6,9]])\n",
    "if p < 0.05:\n",
    "    print('We can reject the null. There is an association between the two variables.')\n",
    "else: \n",
    "    print(\"We cannot reject the null. We cannot exclude the possibility of no association being present.\")"
   ]
  }
 ],
 "metadata": {
  "kernelspec": {
   "display_name": "Python 3",
   "language": "python",
   "name": "python3"
  },
  "language_info": {
   "codemirror_mode": {
    "name": "ipython",
    "version": 3
   },
   "file_extension": ".py",
   "mimetype": "text/x-python",
   "name": "python",
   "nbconvert_exporter": "python",
   "pygments_lexer": "ipython3",
   "version": "3.8.2"
  }
 },
 "nbformat": 4,
 "nbformat_minor": 2
}
